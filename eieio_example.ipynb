{
 "cells": [
  {
   "cell_type": "markdown",
   "metadata": {},
   "source": [
    "# Calculating PM2.5 exposure and health impacts using https://inmap.run\n",
    "\n",
    "This notebook goes through some examples of how the EIEIO model hosted at https://inmap.run can be used to calculate population-weighted concentrations (e.g., exposure) and health impacts caused by emissions of PM2.5 and its precursors.\n",
    "\n",
    "The website exposes a [gRPC](https://grpc.io/) service which we can interact with using a number of different languages. The example here uses Python; other notable options are Go and Javascript.\n",
    "\n",
    "The available functionality is defined in the `eieio.proto` file which is in the same directory as this notebook, but there is not currently much documentation in that file regarding what the different functions do. Instead, documentation can be found in the server source code [here](https://godoc.org/github.com/spatialmodel/inmap/emissions/slca/eieio)."
   ]
  },
  {
   "cell_type": "markdown",
   "metadata": {},
   "source": [
    "## Setup\n",
    "\n",
    "Import the necessary libraries. The first two have been automatically generated from `eieio.proto`, our RPC service definition."
   ]
  },
  {
   "cell_type": "code",
   "execution_count": 1,
   "metadata": {},
   "outputs": [],
   "source": [
    "import eieio_pb2_grpc\n",
    "import eieio_pb2\n",
    "import grpc\n",
    "import pandas as pd\n",
    "import numpy as np"
   ]
  },
  {
   "cell_type": "markdown",
   "metadata": {},
   "source": [
    "#### Connect to the server at https://inmap.run."
   ]
  },
  {
   "cell_type": "code",
   "execution_count": 2,
   "metadata": {},
   "outputs": [],
   "source": [
    "creds = grpc.ssl_channel_credentials()\n",
    "channel = grpc.secure_channel('inmap.run:443', creds)\n",
    "stub = eieio_pb2_grpc.EIEIOrpcStub(channel)"
   ]
  },
  {
   "cell_type": "markdown",
   "metadata": {},
   "source": [
    "## Health impacts\n",
    "\n",
    "#### Calculate total deaths"
   ]
  },
  {
   "cell_type": "code",
   "execution_count": 3,
   "metadata": {},
   "outputs": [],
   "source": [
    "totalDeaths = stub.EvaluationHealth(eieio_pb2.EvaluationHealthInput(\n",
    "    Year = 2015,\n",
    "    Pollutant = eieio_pb2.TotalPM25,\n",
    "    Population = \"all\",\n",
    "    HR = \"NasariACS\",\n",
    ")) # The result here is an array of deaths in each InMAP grid cell."
   ]
  },
  {
   "cell_type": "code",
   "execution_count": 4,
   "metadata": {},
   "outputs": [
    {
     "name": "stdout",
     "output_type": "stream",
     "text": [
      "Total Deaths: 131002.862263\n"
     ]
    }
   ],
   "source": [
    "print(\"Total Deaths:\", np.array(totalDeaths.Data).sum())"
   ]
  },
  {
   "cell_type": "markdown",
   "metadata": {},
   "source": [
    "#### Calculation deaths caused by emitter group"
   ]
  },
  {
   "cell_type": "code",
   "execution_count": 6,
   "metadata": {},
   "outputs": [
    {
     "ename": "ValueError",
     "evalue": "Protocol message Selection has no \"UseGroup\" field.",
     "output_type": "error",
     "traceback": [
      "\u001b[0;31m---------------------------------------------------------------------------\u001b[0m",
      "\u001b[0;31mValueError\u001b[0m                                Traceback (most recent call last)",
      "\u001b[0;32m<ipython-input-6-99e4f26774b4>\u001b[0m in \u001b[0;36m<module>\u001b[0;34m()\u001b[0m\n\u001b[1;32m      8\u001b[0m     \u001b[0mFinalDemandType\u001b[0m \u001b[0;34m=\u001b[0m  \u001b[0meieio_pb2\u001b[0m\u001b[0;34m.\u001b[0m\u001b[0mAllDemand\u001b[0m\u001b[0;34m,\u001b[0m\u001b[0;34m\u001b[0m\u001b[0m\n\u001b[1;32m      9\u001b[0m     \u001b[0mYear\u001b[0m \u001b[0;34m=\u001b[0m             \u001b[0;36m2014\u001b[0m\u001b[0;34m,\u001b[0m\u001b[0;34m\u001b[0m\u001b[0m\n\u001b[0;32m---> 10\u001b[0;31m     \u001b[0mPollutant\u001b[0m \u001b[0;34m=\u001b[0m        \u001b[0meieio_pb2\u001b[0m\u001b[0;34m.\u001b[0m\u001b[0mTotalPM25\u001b[0m\u001b[0;34m,\u001b[0m\u001b[0;34m\u001b[0m\u001b[0m\n\u001b[0m\u001b[1;32m     11\u001b[0m ))\n",
      "\u001b[0;31mValueError\u001b[0m: Protocol message Selection has no \"UseGroup\" field."
     ]
    }
   ],
   "source": [
    "groupDeaths = stub.ProdGroups(eieio_pb2.Selection(\n",
    "    UseGroup =      \"All\",\n",
    "    UseSector =     \"All\",\n",
    "    EmitterGroup =  \"All\",\n",
    "    EmitterSector = \"All\",\n",
    "    ImpactType =       \"health\",\n",
    "    Population =       \"all\",\n",
    "    FinalDemandType =  eieio_pb2.AllDemand,\n",
    "    Year =             2014,\n",
    "    Pollutant =        eieio_pb2.TotalPM25,\n",
    "))"
   ]
  },
  {
   "cell_type": "code",
   "execution_count": null,
   "metadata": {},
   "outputs": [],
   "source": [
    "pd.DataFrame({\"Group\":groupDeaths.Names, \"Deaths/year\":groupDeaths.Values})"
   ]
  },
  {
   "cell_type": "code",
   "execution_count": null,
   "metadata": {},
   "outputs": [],
   "source": [
    "print(\"Biogenic and wildfire deaths:\", np.array(totalDeaths.Data).sum() - groupDeaths.Values[0])"
   ]
  },
  {
   "cell_type": "markdown",
   "metadata": {},
   "source": [
    "## Population-weighted concentrations (Exposure)"
   ]
  },
  {
   "cell_type": "code",
   "execution_count": null,
   "metadata": {},
   "outputs": [],
   "source": [
    "demand = stub.FinalDemand(eieio_pb2.FinalDemandInput(\n",
    "    FinalDemandType = eieio_pb2.AllDemand,\n",
    "    Year = 2014,\n",
    "    Location = eieio_pb2.Domestic,\n",
    "))\n",
    "def popWtdConc(emitterGroup, population):\n",
    "    \"\"\"\n",
    "        PopWtdConc calculated population-weighted concentrations for the given emitterGroup\n",
    "        and exposed population. For repeated calls it would be faster to split out the \n",
    "        different parts of this function and only call them as necessary, but we combine\n",
    "        everything here for the sake of simplicity\n",
    "    \"\"\"\n",
    "    emitterMask = None\n",
    "    if emitterGroup == \"All\":\n",
    "        concVec = stub.EvaluationConcentrations(eieio_pb2.EvaluationConcentrationsInput(\n",
    "            Pollutant = eieio_pb2.TotalPM25,\n",
    "            Year = 2014,\n",
    "        ))\n",
    "    elif emitterGroup == \"AllAnthro\":\n",
    "        concVec = stub.Concentrations(eieio_pb2.ConcentrationInput(\n",
    "            Demand = demand,\n",
    "            Pollutant = eieio_pb2.TotalPM25,\n",
    "            Year = 2014,\n",
    "            Location = eieio_pb2.Domestic,\n",
    "        ))\n",
    "    else:\n",
    "        concVec = stub.Concentrations(eieio_pb2.ConcentrationInput(\n",
    "            Demand = demand,\n",
    "            Emitters = stub.EmitterMask(eieio_pb2.StringInput(String = emitterGroup)),\n",
    "            Pollutant = eieio_pb2.TotalPM25,\n",
    "            Year = 2014,\n",
    "            Location = eieio_pb2.Domestic,\n",
    "        ))\n",
    "    popIncidence = stub.PopulationIncidence(eieio_pb2.PopulationIncidenceInput(\n",
    "        Year = 2014,\n",
    "        Population = population,\n",
    "        HR = \"NasariACS\",\n",
    "    ))\n",
    "    pop = np.array(popIncidence.Population)\n",
    "    conc = np.array(concVec.Data)\n",
    "    return (pop * conc).sum() / pop.sum()"
   ]
  },
  {
   "cell_type": "markdown",
   "metadata": {},
   "source": [
    "### Total Exposure"
   ]
  },
  {
   "cell_type": "code",
   "execution_count": null,
   "metadata": {},
   "outputs": [],
   "source": [
    "c = popWtdConc(\"All\", \"all\")\n",
    "print(\"Population-weighted concentration (total):\", c, \"ug/m3\")\n",
    "c = popWtdConc(\"AllAnthro\", \"all\")\n",
    "print(\"Population-weighted concentration (all anthropogenic activity):\", c, \"ug/m3\")"
   ]
  },
  {
   "cell_type": "markdown",
   "metadata": {},
   "source": [
    "### Exposure by race-ethnicity and source"
   ]
  },
  {
   "cell_type": "code",
   "execution_count": null,
   "metadata": {},
   "outputs": [],
   "source": [
    "# The source groups need to be looked up by these abbreviations rather than the full names.\n",
    "emitters = [\"Ag.\", \"Coal Elec.\", \"Cooking\", \"Const.\", \"Diesel HD Veh.\", \"Industrial\", \"Gas LD Veh.\", \"Misc.\",\n",
    "                \"Non-Coal Elec\", \"Offroad\", \"Res. Other\", \"Res. Gas\", \"Res. Wood\", \"Road Dst.\"]\n",
    "\n",
    "for pop in stub.Populations(eieio_pb2.Selectors()).Names:\n",
    "    print(pop)\n",
    "    df = pd.DataFrame(columns = [\"Source\", \"Exposure\"])\n",
    "    for emitter in emitters:\n",
    "        df = df.append(pd.DataFrame({\"Source\": [emitter], \"Exposure\":[popWtdConc(emitter, pop)]}))\n",
    "    print(df)"
   ]
  },
  {
   "cell_type": "markdown",
   "metadata": {},
   "source": [
    "## Geometry"
   ]
  },
  {
   "cell_type": "code",
   "execution_count": null,
   "metadata": {},
   "outputs": [],
   "source": [
    "geom = stub.Geometry(eieio_pb2.GeometryInput(\n",
    "    SpatialReference = \"+proj=lcc +lat_1=33.000000 +lat_2=45.000000 +lat_0=40.000000 +lon_0=-97.000000 +x_0=0 +y_0=0 +a=6370997.000000 +b=6370997.000000 +to_meter=1\"\n",
    "))"
   ]
  },
  {
   "cell_type": "code",
   "execution_count": null,
   "metadata": {},
   "outputs": [],
   "source": [
    "popIncidence = stub.PopulationIncidence(eieio_pb2.PopulationIncidenceInput(\n",
    "    Year = 2014,\n",
    "    Population = \"all\",\n",
    "    HR = \"NasariACS\",\n",
    "))\n",
    "pop = np.array(popIncidence.Population)"
   ]
  },
  {
   "cell_type": "code",
   "execution_count": null,
   "metadata": {},
   "outputs": [],
   "source": [
    "edgeLength = np.zeros((len(pop)))\n",
    "for i, r in enumerate(geom.Rectangles):\n",
    "    edgeLength[i] = r.LR.X - r.LL.X\n",
    "\n",
    "popWtdEdgeLen = (edgeLength * pop).sum() / pop.sum()\n",
    "print(\"Population-weighted edge length =\", popWtdEdgeLen/1000, \"km\")"
   ]
  }
 ],
 "metadata": {
  "kernelspec": {
   "display_name": "Python 3",
   "language": "python",
   "name": "python3"
  },
  "language_info": {
   "codemirror_mode": {
    "name": "ipython",
    "version": 3
   },
   "file_extension": ".py",
   "mimetype": "text/x-python",
   "name": "python",
   "nbconvert_exporter": "python",
   "pygments_lexer": "ipython3",
   "version": "3.6.3"
  }
 },
 "nbformat": 4,
 "nbformat_minor": 2
}
